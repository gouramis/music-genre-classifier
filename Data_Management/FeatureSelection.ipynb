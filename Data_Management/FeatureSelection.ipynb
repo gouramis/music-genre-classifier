{
 "cells": [
  {
   "cell_type": "code",
   "execution_count": 1,
   "metadata": {},
   "outputs": [
    {
     "name": "stdout",
     "output_type": "stream",
     "text": [
      "Reading features.csv\n",
      "Reading tracks.csv\n",
      "Reading echonest.csv\n",
      "Reading genres.csv\n"
     ]
    }
   ],
   "source": [
    "import pandas as pd\n",
    "import numpy as np\n",
    "from sklearn.feature_selection import SelectKBest\n",
    "from sklearn.feature_selection import f_classif\n",
    "import CSVInterface\n",
    "\n",
    "reader = CSVInterface.featRead()"
   ]
  },
  {
   "cell_type": "code",
   "execution_count": 2,
   "metadata": {
    "scrolled": true
   },
   "outputs": [],
   "source": [
    "features = reader.getSubset(reader.getFrame('features'), sub='cleanLarge')\n",
    "genres = reader.getSubset(reader.getFrame('track')['genre_top'], sub='cleanLarge')"
   ]
  },
  {
   "cell_type": "code",
   "execution_count": 3,
   "metadata": {
    "scrolled": true
   },
   "outputs": [],
   "source": [
    "Xdf = pd.DataFrame(features)\n",
    "Ydf = pd.DataFrame(genres)"
   ]
  },
  {
   "cell_type": "code",
   "execution_count": 12,
   "metadata": {},
   "outputs": [
    {
     "name": "stdout",
     "output_type": "stream",
     "text": [
      "                               Specs        Score\n",
      "295                 (mfcc, mean, 04)  1242.145874\n",
      "315               (mfcc, median, 04)  1212.966733\n",
      "312               (mfcc, median, 01)  1097.234798\n",
      "292                 (mfcc, mean, 01)  1087.863106\n",
      "275                  (mfcc, max, 04)  1040.706971\n",
      "437  (spectral_contrast, median, 04)  1006.795188\n",
      "272                  (mfcc, max, 01)  1004.792318\n",
      "430    (spectral_contrast, mean, 04)   992.799450\n",
      "436  (spectral_contrast, median, 03)   917.780320\n",
      "429    (spectral_contrast, mean, 03)   905.337592\n",
      "314               (mfcc, median, 03)   863.055983\n",
      "294                 (mfcc, mean, 03)   856.079110\n",
      "435  (spectral_contrast, median, 02)   822.905585\n",
      "428    (spectral_contrast, mean, 02)   809.976324\n",
      "426     (spectral_contrast, max, 07)   760.826713\n",
      "467     (spectral_rolloff, skew, 01)   736.147639\n",
      "319               (mfcc, median, 08)   734.508656\n",
      "317               (mfcc, median, 06)   731.754164\n",
      "297                 (mfcc, mean, 06)   719.100014\n",
      "299                 (mfcc, mean, 08)   717.546248\n",
      "277                  (mfcc, max, 06)   691.042638\n",
      "433    (spectral_contrast, mean, 07)   685.349162\n",
      "440  (spectral_contrast, median, 07)   664.444640\n",
      "438  (spectral_contrast, median, 05)   664.437202\n",
      "321               (mfcc, median, 10)   631.023629\n",
      "412     (spectral_centroid, std, 01)   628.231722\n",
      "431    (spectral_contrast, mean, 05)   624.151985\n",
      "323               (mfcc, median, 12)   618.057177\n",
      "301                 (mfcc, mean, 10)   615.022563\n",
      "354                 (mfcc, skew, 03)   608.640899\n",
      "509               (tonnetz, std, 05)   605.868514\n",
      "468      (spectral_rolloff, std, 01)   602.039202\n",
      "398                  (rmse, std, 01)   599.174118\n",
      "303                 (mfcc, mean, 12)   591.584697\n",
      "510               (tonnetz, std, 06)   570.892989\n",
      "331               (mfcc, median, 20)   567.910401\n",
      "450    (spectral_contrast, skew, 03)   563.438095\n",
      "311                 (mfcc, mean, 20)   555.341448\n",
      "279                  (mfcc, max, 08)   554.647778\n",
      "404   (spectral_bandwidth, skew, 01)   547.360305\n",
      "386                  (mfcc, std, 15)   540.527008\n",
      "385                  (mfcc, std, 14)   539.795737\n",
      "384                  (mfcc, std, 13)   532.326748\n",
      "274                  (mfcc, max, 03)   528.101340\n",
      "449    (spectral_contrast, skew, 02)   522.738127\n",
      "508               (tonnetz, std, 04)   522.589067\n",
      "387                  (mfcc, std, 16)   520.870710\n",
      "325               (mfcc, median, 14)   518.968456\n",
      "329               (mfcc, median, 18)   518.764097\n",
      "507               (tonnetz, std, 03)   515.469634\n"
     ]
    }
   ],
   "source": [
    "res = 50  #number of results to be calculated and printed\n",
    "bestfeatures = SelectKBest(score_func=f_classif, k=res)\n",
    "fit = bestfeatures.fit(Xdf, np.ravel(Ydf))\n",
    "dfscores = pd.DataFrame(fit.scores_)\n",
    "dfcolumns = pd.DataFrame(Xdf.columns)\n",
    "\n",
    "#concat two dataframes for better visualization \n",
    "featureScores = pd.concat([dfcolumns,dfscores],axis=1)\n",
    "featureScores.columns = ['Specs','Score']  #naming the dataframe columns\n",
    "print(featureScores.nlargest(res,'Score'))  #print 50 best features"
   ]
  },
  {
   "cell_type": "code",
   "execution_count": 11,
   "metadata": {},
   "outputs": [],
   "source": [
    "#create dataframe formatted for mRMR program\n",
    "df = reader.mergeFrames(Ydf, Xdf)\n",
    "df['genre_top'] = pd.factorize(df['genre_top'])[0] + 1\n",
    "\n",
    "#output csv file to be read into C++ mRMR program. Needs to have instances of ', ' replaced with '/' in order to work\n",
    "df.to_csv(r'mRMRdata.csv', index=False)"
   ]
  },
  {
   "cell_type": "code",
   "execution_count": null,
   "metadata": {},
   "outputs": [],
   "source": []
  }
 ],
 "metadata": {
  "kernelspec": {
   "display_name": "Python 3",
   "language": "python",
   "name": "python3"
  },
  "language_info": {
   "codemirror_mode": {
    "name": "ipython",
    "version": 3
   },
   "file_extension": ".py",
   "mimetype": "text/x-python",
   "name": "python",
   "nbconvert_exporter": "python",
   "pygments_lexer": "ipython3",
   "version": "3.7.1"
  }
 },
 "nbformat": 4,
 "nbformat_minor": 2
}
